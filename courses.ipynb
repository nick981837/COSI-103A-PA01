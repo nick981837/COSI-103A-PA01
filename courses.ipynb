{
 "cells": [
  {
   "cell_type": "markdown",
   "metadata": {},
   "source": [
    "# Courses Demo\n",
    "This Jupyter notebook is for exploring the data set courses20-21.json\n",
    "which consists of all Brandeis courses in the 20-21 academic year (Fall20, Spr21, Sum21) \n",
    "which had at least 1 student enrolled.\n",
    "\n",
    "First we need to read the json file into a list of Python dictionaries"
   ]
  },
  {
   "cell_type": "code",
   "execution_count": null,
   "metadata": {},
   "outputs": [],
   "source": [
    "import json"
   ]
  },
  {
   "cell_type": "code",
   "execution_count": null,
   "metadata": {},
   "outputs": [],
   "source": [
    "with open(\"courses20-21.json\",\"r\",encoding='utf-8') as jsonfile:\n",
    "    courses = json.load(jsonfile)"
   ]
  },
  {
   "cell_type": "markdown",
   "metadata": {},
   "source": [
    "## Structure of a course\n",
    "Next we look at the fields of each course dictionary and their values"
   ]
  },
  {
   "cell_type": "code",
   "execution_count": null,
   "metadata": {},
   "outputs": [],
   "source": [
    "print('there are',len(courses),'courses in the dataset')\n",
    "print('here is the data for course 1246')\n",
    "courses[1246]"
   ]
  },
  {
   "cell_type": "markdown",
   "metadata": {},
   "source": [
    "## Cleaning the data\n",
    "If we want to sort courses by instructor or by code, we need to replace the lists with tuples (which are immutable lists)"
   ]
  },
  {
   "cell_type": "code",
   "execution_count": null,
   "metadata": {},
   "outputs": [],
   "source": [
    "for course in courses:\n",
    "        course['instructor'] = tuple(course['instructor'])\n",
    "        course['coinstructors'] = tuple([tuple(f) for f in course['coinstructors']])\n",
    "        course['code']= tuple(course['code'])"
   ]
  },
  {
   "cell_type": "code",
   "execution_count": null,
   "metadata": {},
   "outputs": [],
   "source": [
    "print('notice that the instructor and code are tuples now')\n",
    "courses[1246]"
   ]
  },
  {
   "cell_type": "markdown",
   "metadata": {},
   "source": [
    "# Exploring the data set\n",
    "Now we will show how to use straight python to explore the data set and answer some interesting questions. Next week we will start learning Pandas/Numpy which are packages that make it easier to explore large dataset efficiently.\n",
    "\n",
    "Here are some questions we can try to asnwer:\n",
    "* what are all of the subjects of courses (e.g. COSI, MATH, JAPN, PHIL, ...)\n",
    "* which terms are represented?\n",
    "* how many instructors taught at Brandeis last year?\n",
    "* what were the five largest course sections?\n",
    "* what were the five largest courses (where we combine sections)?\n",
    "* which are the five largest subjects measured by number of courses offered?\n",
    "* which are the five largest courses measured by number of students taught?\n",
    "* which course had the most sections taught in 20-21?\n",
    "* who are the top five faculty in terms of number of students taught?\n",
    "* etc."
   ]
  },
  {
   "cell_type": "markdown",
   "metadata": {},
   "source": [
    "### (a) how many faculty taught COSI courses last year?"
   ]
  },
  {
   "cell_type": "code",
   "execution_count": null,
   "metadata": {},
   "outputs": [],
   "source": [
    "facultyCOSI = set()\n",
    "for course in courses:\n",
    "    if course[\"subject\"] == \"COSI\":\n",
    "        facultyCOSI.add(course[\"instructor\"][0] + course[\"instructor\"][1])\n",
    "len(facultyCOSI)\n",
    "\n",
    "    "
   ]
  },
  {
   "cell_type": "markdown",
   "metadata": {},
   "source": [
    "### (b) what is the total number of students taking COSI courses last year?"
   ]
  },
  {
   "cell_type": "code",
   "execution_count": null,
   "metadata": {},
   "outputs": [],
   "source": [
    "count = 0\n",
    "for course in courses:\n",
    "    if course[\"subject\"] == \"COSI\":\n",
    "        count += course[\"enrolled\"]\n",
    "count"
   ]
  },
  {
   "cell_type": "markdown",
   "metadata": {},
   "source": [
    "### (c) what was the median size of a COSI course last year (counting only those courses with at least 10 students)\n"
   ]
  },
  {
   "cell_type": "code",
   "execution_count": null,
   "metadata": {},
   "outputs": [],
   "source": [
    "COSI_course = []\n",
    "res = 0\n",
    "for course in courses:\n",
    "    if course[\"subject\"] == \"COSI\" and course[\"enrolled\"] >= 10:\n",
    "        COSI_course.append(course[\"enrolled\"])\n",
    "COSI_course.sort()\n",
    "middle = len(COSI_course) // 2\n",
    "if len(COSI_course) % 2 == 0:\n",
    "    res = (COSI_course[middle] + COSI_course[middle - 1]) / 2\n",
    "else:\n",
    "    res = COSI_course[middle]\n",
    "res"
   ]
  },
  {
   "cell_type": "markdown",
   "metadata": {},
   "source": [
    "### (d) List top 10 subjects in terms of number of students enrolled"
   ]
  },
  {
   "cell_type": "code",
   "execution_count": null,
   "metadata": {},
   "outputs": [],
   "source": [
    "subjects = {}\n",
    "for course in courses:\n",
    "    if course['subject'] in subjects:\n",
    "        subjects[course['subject']] += course['enrolled']\n",
    "    else:\n",
    "        subjects[course['subject']] = course['enrolled']\n",
    "subjects = sorted(subjects.items(), key=lambda x: x[1], reverse=True)\n",
    "for i in range(10):\n",
    "    print(subjects[i])"
   ]
  },
  {
   "cell_type": "markdown",
   "metadata": {},
   "source": [
    "### (g) List the top 20 faculty in terms of number of students they taught."
   ]
  },
  {
   "cell_type": "code",
   "execution_count": null,
   "metadata": {},
   "outputs": [],
   "source": [
    "#Confirmed that code works with: sum([course['enrolled'] for course in courses if course['instructor'] == ('Leah', 'Berkenwald', 'leahb@brandeis.edu')])#\n",
    "\n",
    "courses_by_instructor = sorted(courses, key = lambda course: course['instructor'])\n",
    "students_per_instructor = []\n",
    "curInstructor = courses_by_instructor[0]['instructor']\n",
    "students = courses_by_instructor[0]['enrolled']\n",
    "\n",
    "for course in courses_by_instructor[1:]:\n",
    "   if curInstructor == course['instructor']:\n",
    "      students += course['enrolled']\n",
    "   else:\n",
    "      students_per_instructor.append((students, curInstructor))\n",
    "      curInstructor = course['instructor']\n",
    "      students = course['enrolled']\n",
    "   if course == courses_by_instructor[len(courses_by_instructor)-1]:\n",
    "      students_per_instructor.append((students, curInstructor))\n",
    "      \n",
    "instructors_by_num_of_students = [instructor for (students, instructor) in sorted(students_per_instructor, key = lambda element: -element[0])]\n",
    "instructors_by_num_of_students[:20]\n"
   ]
  },
  {
   "cell_type": "markdown",
   "metadata": {},
   "source": [
    "### (h) List the top 20 courses in terms of number of students taking that course (where you combine different sections and semesters, i.e. just use the subject and course number)"
   ]
  },
  {
   "cell_type": "code",
   "execution_count": null,
   "metadata": {},
   "outputs": [],
   "source": [
    "#Confirmed that code works with: sum([course['enrolled'] for course in courses if course['code'] == ('HWL', '1')])\n",
    "\n",
    "sum([course['enrolled'] for course in courses if course['instructor'] == ('Adam B.', 'Jaffe', 'ajaffe@brandeis.edu')])\n",
    "courses_by_code = sorted(courses, key = lambda course: course['code'])\n",
    "students_per_course = []\n",
    "curCourse = courses_by_code[0]['code']\n",
    "students = courses_by_code[0]['enrolled']\n",
    "\n",
    "for course in courses_by_code[1:]:\n",
    "    if curCourse == course['code']:\n",
    "        students += course['enrolled']\n",
    "    else:\n",
    "        students_per_course.append((students, curCourse))\n",
    "        curCourse = course['code']\n",
    "        students = course['enrolled']\n",
    "    if course  == courses_by_code[len(courses_by_code)-1]:\n",
    "        students_per_course.append((students, curCourse))\n",
    "        \n",
    "courses_by_num_of_students = [course for (students, course) in sorted(students_per_course, key = lambda element: -element[0])]\n",
    "courses_by_num_of_students[:20]"
   ]
  },
  {
   "cell_type": "markdown",
   "metadata": {},
   "source": [
    "### Top ten professors in terms of offering the most number of independent studies with at least one student."
   ]
  },
  {
   "cell_type": "code",
   "execution_count": null,
   "metadata": {},
   "outputs": [],
   "source": [
    "courses_by_instructor = sorted(courses, key = lambda course: course['instructor'])\n",
    "indies_by_instructor = []\n",
    "\n",
    "curInstructor = courses_by_instructor[0]['instructor']\n",
    "indiesWithStudentsCounter = 0\n",
    "\n",
    "for course in courses_by_instructor:\n",
    "    if curInstructor == course['instructor'] and course['independent_study'] and course['enrolled'] > 0:\n",
    "        indiesWithStudentsCounter += 1\n",
    "    elif curInstructor != course['instructor']:\n",
    "        indies_by_instructor.append((indiesWithStudentsCounter, curInstructor))\n",
    "        curInstructor = course['instructor']\n",
    "        indiesWithStudentsCounter = 1 if course['independent_study'] and course['enrolled'] > 0 else 0\n",
    "    if course == courses_by_instructor[len(courses_by_instructor)-1]:\n",
    "        indies_by_instructor.append((indiesWithStudentsCounter, curInstructor))\n",
    "\n",
    "instructors_by_indiesWithStudents = [instructor for (counter, instructor) in sorted(indies_by_instructor, key = lambda element: -element[0])]\n",
    "instructors_by_indiesWithStudents[:10]"
   ]
  },
  {
   "cell_type": "markdown",
   "metadata": {},
   "source": [
    "### The top ten courses in terms of length of description."
   ]
  },
  {
   "cell_type": "code",
   "execution_count": null,
   "metadata": {},
   "outputs": [],
   "source": [
    "sum([course['enrolled'] for course in courses if course['instructor'] == ('Adam B.', 'Jaffe', 'ajaffe@brandeis.edu')])\n",
    "courses_by_code = sorted(courses, key = lambda course: course['code'])\n",
    "courses_by_lenDescr = sorted(courses, key = lambda course: -len(course['description']))\n",
    "top_ten = set()\n",
    "\n",
    "i = 0\n",
    "\n",
    "while len(top_ten) < 10:\n",
    "    top_ten.add(courses_by_lenDescr[i]['code'][0] + courses_by_lenDescr[i]['code'][1])\n",
    "    i += 1\n",
    "    \n",
    "top_ten"
   ]
  },
  {
   "cell_type": "markdown",
   "metadata": {},
   "source": [
    "### (i3: James) Number of courses with coinstructors"
   ]
  },
  {
   "cell_type": "code",
   "execution_count": null,
   "metadata": {},
   "outputs": [],
   "source": [
    "len([course for course in courses if len(course['coinstructors']) > 0])"
   ]
  }
 ],
 "metadata": {
  "kernelspec": {
   "display_name": "Python 3 (ipykernel)",
   "language": "python",
   "name": "python3"
  },
  "language_info": {
   "codemirror_mode": {
    "name": "ipython",
    "version": 3
   },
   "file_extension": ".py",
   "mimetype": "text/x-python",
   "name": "python",
   "nbconvert_exporter": "python",
   "pygments_lexer": "ipython3",
   "version": "3.8.12"
  }
 },
 "nbformat": 4,
 "nbformat_minor": 4
}
